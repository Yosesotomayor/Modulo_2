{
 "cells": [
  {
   "cell_type": "markdown",
   "id": "9b403d12",
   "metadata": {},
   "source": [
    "---"
   ]
  },
  {
   "cell_type": "markdown",
   "id": "152e026b",
   "metadata": {},
   "source": [
    "# Actividad Modulo 2"
   ]
  },
  {
   "cell_type": "markdown",
   "id": "e0e58cab",
   "metadata": {},
   "source": [
    "---"
   ]
  },
  {
   "cell_type": "markdown",
   "id": "f10a4c8d",
   "metadata": {},
   "source": [
    "## Importamos librerias necesarias"
   ]
  },
  {
   "cell_type": "code",
   "execution_count": 1,
   "id": "b6aba3da-ef4f-4634-b1f2-8786bc3bce65",
   "metadata": {},
   "outputs": [],
   "source": [
    "import numpy as np\n",
    "\n",
    "from matplotlib import pyplot as plt\n",
    "\n",
    "from sklearn.metrics import ConfusionMatrixDisplay, classification_report\n",
    "from sklearn.datasets import load_breast_cancer\n",
    "\n",
    "from NNMultiClass import NNMultiClass, train_test_split_stratified, transform_standardizer, fit_standardizer\n",
    "\n",
    "%matplotlib inline"
   ]
  },
  {
   "cell_type": "markdown",
   "id": "d6dbc81c",
   "metadata": {},
   "source": [
    "---"
   ]
  },
  {
   "cell_type": "markdown",
   "id": "cf7366a8",
   "metadata": {},
   "source": [
    "## Data"
   ]
  },
  {
   "cell_type": "code",
   "execution_count": 2,
   "id": "81f2792e",
   "metadata": {},
   "outputs": [],
   "source": [
    "data = load_breast_cancer()\n",
    "\n",
    "X = data.data\n",
    "y = data.target"
   ]
  },
  {
   "cell_type": "markdown",
   "id": "d24d184c",
   "metadata": {},
   "source": [
    "---"
   ]
  },
  {
   "cell_type": "markdown",
   "id": "e1668bb4",
   "metadata": {},
   "source": [
    "### Train-Test Split"
   ]
  },
  {
   "cell_type": "code",
   "execution_count": 3,
   "id": "1e0f0cd8",
   "metadata": {},
   "outputs": [],
   "source": [
    "X_train, X_test, y_train, y_test = train_test_split_stratified(X, y, test_size=0.2, seed=42)"
   ]
  },
  {
   "cell_type": "markdown",
   "id": "22404559",
   "metadata": {},
   "source": [
    "---"
   ]
  },
  {
   "cell_type": "markdown",
   "id": "740973cd",
   "metadata": {},
   "source": [
    "### Scale the data"
   ]
  },
  {
   "cell_type": "code",
   "execution_count": 4,
   "id": "2e569b79",
   "metadata": {},
   "outputs": [],
   "source": [
    "X_test_scaled  = transform_standardizer(X_test, *fit_standardizer(X_train))\n",
    "X_train_scaled = transform_standardizer(X_train, *fit_standardizer(X_train))"
   ]
  },
  {
   "cell_type": "markdown",
   "id": "d5eca7da",
   "metadata": {},
   "source": [
    "---"
   ]
  },
  {
   "cell_type": "markdown",
   "id": "64d4679b",
   "metadata": {},
   "source": [
    "## Neural Network Configuration"
   ]
  },
  {
   "cell_type": "code",
   "execution_count": 5,
   "id": "f575a8d9",
   "metadata": {},
   "outputs": [
    {
     "name": "stdout",
     "output_type": "stream",
     "text": [
      "\n",
      "Pesos capa 0 (30 → 64):\n",
      "[[ 0.07867761 -0.26852274  0.19376567 ... -0.08646694  0.04202266\n",
      "   0.15136196]\n",
      " [ 0.18363791  0.20484138 -0.09004043 ...  0.09214371  0.37782318\n",
      "  -0.3069373 ]\n",
      " [-0.16518314 -0.23924088 -0.10064846 ...  0.42626776  0.44504858\n",
      "  -0.04635166]\n",
      " ...\n",
      " [ 0.0189196   0.00968846 -0.02346277 ...  0.2622049  -0.4281804\n",
      "  -0.00204094]\n",
      " [ 0.0707058  -0.07765708 -0.47822613 ...  0.17353917  0.12267754\n",
      "  -0.17865651]\n",
      " [-0.0435457   0.26949339  0.10156947 ...  0.26474372 -0.08192308\n",
      "  -0.37856759]]\n",
      "\n",
      "Pesos capa 1 (64 → 2):\n",
      "[[-0.13671713  0.12836322]\n",
      " [-0.24018807  0.14112389]\n",
      " [-0.00688776 -0.14904942]\n",
      " [-0.07288938 -0.12715304]\n",
      " [ 0.10827815  0.09155348]\n",
      " [-0.21489514 -0.05044901]\n",
      " [-0.10789821  0.16168875]\n",
      " [-0.16876239  0.20052864]\n",
      " [-0.00416184 -0.1452418 ]\n",
      " [-0.08465927 -0.10020236]\n",
      " [-0.1593273   0.01185336]\n",
      " [-0.15348944 -0.27254578]\n",
      " [-0.04745956 -0.22535702]\n",
      " [-0.09402011 -0.11363786]\n",
      " [-0.10890201  0.25012039]\n",
      " [ 0.00705145  0.03067138]\n",
      " [-0.22204979 -0.08174539]\n",
      " [ 0.02691283 -0.12806611]\n",
      " [ 0.11350786 -0.15033707]\n",
      " [-0.03579577 -0.07325645]\n",
      " [ 0.02054008 -0.08006126]\n",
      " [-0.0338617  -0.02951626]\n",
      " [-0.09179847  0.06063673]\n",
      " [ 0.02979855 -0.01107674]\n",
      " [-0.05380729  0.099568  ]\n",
      " [-0.02947928 -0.03833716]\n",
      " [ 0.01308625  0.21207334]\n",
      " [-0.16754453  0.09623211]\n",
      " [-0.2366464   0.02715914]\n",
      " [ 0.19688535  0.06108357]\n",
      " [ 0.02132813 -0.07005618]\n",
      " [ 0.0038809  -0.03150785]\n",
      " [-0.09824708 -0.03623445]\n",
      " [ 0.02479765 -0.09590213]\n",
      " [-0.10078523 -0.17003043]\n",
      " [ 0.04884063  0.06816541]\n",
      " [ 0.02895756  0.12064631]\n",
      " [ 0.01098345  0.04900137]\n",
      " [ 0.03797968 -0.0114425 ]\n",
      " [-0.06635273  0.27676908]\n",
      " [-0.05649387 -0.08323471]\n",
      " [ 0.05425123  0.0314818 ]\n",
      " [-0.17559894  0.14033478]\n",
      " [-0.01177432 -0.13886639]\n",
      " [ 0.14859801  0.07820945]\n",
      " [-0.15806775  0.22214786]\n",
      " [ 0.08234967 -0.00127451]\n",
      " [ 0.19877735  0.01991222]\n",
      " [-0.00351038 -0.08253751]\n",
      " [ 0.0727313   0.05957537]\n",
      " [ 0.00183502 -0.09874829]\n",
      " [ 0.01624123 -0.00872485]\n",
      " [-0.16668429 -0.18397654]\n",
      " [ 0.07064417 -0.32523604]\n",
      " [ 0.02567632 -0.05976038]\n",
      " [ 0.16353083 -0.06168353]\n",
      " [ 0.08243553 -0.04961423]\n",
      " [ 0.01421852  0.09210457]\n",
      " [-0.05781946  0.12456936]\n",
      " [-0.12421223  0.03682411]\n",
      " [ 0.11532997  0.08250469]\n",
      " [ 0.23955561 -0.09542991]\n",
      " [-0.17239366 -0.12429189]\n",
      " [ 0.08255532  0.06224037]]\n"
     ]
    }
   ],
   "source": [
    "input_size = X_test_scaled.shape[1]\n",
    "output_size = len(np.unique(y))\n",
    "layers = 64\n",
    "\n",
    "layer_sizes = [input_size] + [layers] + [output_size]\n",
    "\n",
    "nn = NNMultiClass(layer_sizes=layer_sizes, hidden_activation=\"relu\", seed=42, lr=3e-1)\n",
    "nn.show_weights()\n",
    "y_pred = nn.predict(X_test_scaled)"
   ]
  },
  {
   "cell_type": "markdown",
   "id": "2fd77e63",
   "metadata": {},
   "source": [
    "---"
   ]
  },
  {
   "cell_type": "markdown",
   "id": "c95008a9",
   "metadata": {},
   "source": [
    "## Pre - Backpropagation Prediction"
   ]
  },
  {
   "cell_type": "markdown",
   "id": "78f30787",
   "metadata": {},
   "source": [
    "---"
   ]
  },
  {
   "cell_type": "markdown",
   "id": "24c7baed",
   "metadata": {},
   "source": [
    "### Confusion Matrix"
   ]
  },
  {
   "cell_type": "code",
   "execution_count": 6,
   "id": "b45d7b2c",
   "metadata": {},
   "outputs": [
    {
     "data": {
      "image/png": "[encoded data removed]",
      "text/plain": [
       "<Figure size 640x480 with 2 Axes>"
      ]
     },
     "metadata": {},
     "output_type": "display_data"
    }
   ],
   "source": [
    "ConfusionMatrixDisplay.from_predictions(y_test, y_pred)\n",
    "plt.title(\"Confusion Matrix\")\n",
    "plt.show()"
   ]
  },
  {
   "cell_type": "markdown",
   "id": "b3cffcf0",
   "metadata": {},
   "source": [
    "---"
   ]
  },
  {
   "cell_type": "markdown",
   "id": "2689393c",
   "metadata": {},
   "source": [
    "### Classification Report"
   ]
  },
  {
   "cell_type": "code",
   "execution_count": 7,
   "id": "8c7eeb06",
   "metadata": {},
   "outputs": [
    {
     "name": "stdout",
     "output_type": "stream",
     "text": [
      "              precision    recall  f1-score   support\n",
      "\n",
      "           0       0.22      0.10      0.13        42\n",
      "           1       0.60      0.80      0.69        71\n",
      "\n",
      "    accuracy                           0.54       113\n",
      "   macro avg       0.41      0.45      0.41       113\n",
      "weighted avg       0.46      0.54      0.48       113\n",
      "\n"
     ]
    }
   ],
   "source": [
    "print(classification_report(y_test, y_pred))"
   ]
  },
  {
   "cell_type": "markdown",
   "id": "88a08faa",
   "metadata": {},
   "source": [
    "---"
   ]
  },
  {
   "cell_type": "markdown",
   "id": "ffce9a93",
   "metadata": {},
   "source": [
    "## Post - Backpropagation Prediction"
   ]
  },
  {
   "cell_type": "code",
   "execution_count": 8,
   "id": "538d0f0b",
   "metadata": {},
   "outputs": [
    {
     "name": "stdout",
     "output_type": "stream",
     "text": [
      "Epoch    1 | loss=0.0554 | acc=0.9846\n",
      "Epoch   10 | loss=0.0099 | acc=1.0000\n",
      "Epoch   20 | loss=0.0038 | acc=1.0000\n",
      "Epoch   30 | loss=0.0022 | acc=1.0000\n",
      "Epoch   40 | loss=0.0016 | acc=1.0000\n",
      "Epoch   50 | loss=0.0012 | acc=1.0000\n",
      "Epoch   60 | loss=0.0009 | acc=1.0000\n",
      "Epoch   70 | loss=0.0008 | acc=1.0000\n",
      "Epoch   80 | loss=0.0007 | acc=1.0000\n",
      "Epoch   90 | loss=0.0006 | acc=1.0000\n",
      "Epoch  100 | loss=0.0005 | acc=1.0000\n",
      "\n",
      "Pesos capa 0 (30 → 64):\n",
      "[[ 0.09622694 -0.25723934  0.21605229 ... -0.06008279 -0.00423714\n",
      "   0.07678297]\n",
      " [ 0.12223283  0.40444314 -0.03979338 ...  0.01615213  0.29317229\n",
      "  -0.29366199]\n",
      " [-0.16066597 -0.21640794 -0.07026397 ...  0.45476649  0.39857361\n",
      "  -0.1163985 ]\n",
      " ...\n",
      " [-0.09277573 -0.13275929  0.04309223 ...  0.35624684 -0.38075124\n",
      "   0.06115216]\n",
      " [-0.00942003 -0.21635012 -0.57632465 ...  0.17194112  0.13268377\n",
      "  -0.15635763]\n",
      " [-0.32113298  0.37388853  0.32452729 ...  0.32392934  0.00314899\n",
      "  -0.25827847]]\n",
      "\n",
      "Pesos capa 1 (64 → 2):\n",
      "[[-3.72316552e-01  3.63962637e-01]\n",
      " [-5.73350290e-01  4.74286112e-01]\n",
      " [ 3.59435065e-01 -5.15372244e-01]\n",
      " [-1.17249851e-01 -8.27925754e-02]\n",
      " [ 7.21040788e-01 -5.21209162e-01]\n",
      " [ 6.59735156e-03 -2.71941508e-01]\n",
      " [-1.64876113e-01  2.18666651e-01]\n",
      " [-2.51200750e-01  2.82966998e-01]\n",
      " [ 7.29475994e-01 -8.78879638e-01]\n",
      " [ 1.05338318e-01 -2.90199946e-01]\n",
      " [ 8.82331303e-01 -1.02980525e+00]\n",
      " [-4.13568276e-02 -3.84678392e-01]\n",
      " [-4.19258937e-01  1.46442354e-01]\n",
      " [-3.40722837e-01  1.33064868e-01]\n",
      " [ 7.58788274e-01 -6.17569896e-01]\n",
      " [ 3.89333969e-02 -1.21057485e-03]\n",
      " [-5.81959051e-01  2.78163872e-01]\n",
      " [-8.31215959e-02 -1.80316895e-02]\n",
      " [ 2.54403630e-01 -2.91232848e-01]\n",
      " [ 3.55952655e-01 -4.65004877e-01]\n",
      " [ 1.08025724e-01 -1.67546900e-01]\n",
      " [-7.10469615e-02  7.66899666e-03]\n",
      " [-1.77360582e-01  1.46198846e-01]\n",
      " [-1.86987913e-01  2.05709717e-01]\n",
      " [-2.43996651e-01  2.89757363e-01]\n",
      " [-2.97760159e-01  2.29943718e-01]\n",
      " [-7.38822169e-01  9.63981758e-01]\n",
      " [-4.99325878e-01  4.28013464e-01]\n",
      " [-4.59809801e-01  2.50322551e-01]\n",
      " [-3.80204238e-01  6.38173157e-01]\n",
      " [-1.07296839e-01  5.85687903e-02]\n",
      " [ 1.42657384e-01 -1.70284336e-01]\n",
      " [-8.25452536e-01  6.90971008e-01]\n",
      " [ 1.82879670e-01 -2.53984159e-01]\n",
      " [-3.35869463e-01  6.50538056e-02]\n",
      " [ 7.24025720e-01 -6.07019684e-01]\n",
      " [ 8.72440795e-01 -7.22836928e-01]\n",
      " [-1.72227229e-01  2.32212051e-01]\n",
      " [-1.69037786e-03  2.82275536e-02]\n",
      " [-3.01242913e-01  5.11659261e-01]\n",
      " [-5.34569207e-01  3.94840621e-01]\n",
      " [ 6.79454976e-01 -5.93721946e-01]\n",
      " [-5.13834471e-01  4.78570310e-01]\n",
      " [-5.20954464e-01  3.70313755e-01]\n",
      " [-3.87816777e-01  6.14624238e-01]\n",
      " [-5.41613957e-01  6.05694063e-01]\n",
      " [ 8.72420548e-03  7.23509511e-02]\n",
      " [ 3.27133433e-01 -1.08443859e-01]\n",
      " [-8.32327086e-02 -2.81519027e-03]\n",
      " [-3.44291323e-01  4.76597999e-01]\n",
      " [-3.05665298e-01  2.08752021e-01]\n",
      " [-1.18619864e-01  1.26136248e-01]\n",
      " [ 3.23398699e-01 -6.74059533e-01]\n",
      " [ 2.85534540e-01 -5.40126407e-01]\n",
      " [-1.86501501e-01  1.52417434e-01]\n",
      " [-2.94601896e-01  3.96449195e-01]\n",
      " [-1.26108290e-01  1.58929587e-01]\n",
      " [ 2.41254763e-02  8.21976092e-02]\n",
      " [ 4.01150762e-01 -3.34400866e-01]\n",
      " [-9.98839475e-02  1.24958182e-02]\n",
      " [ 1.97810834e-01  2.38180662e-05]\n",
      " [ 2.21137995e-01 -7.70123005e-02]\n",
      " [ 7.39732017e-02 -3.70658747e-01]\n",
      " [ 5.98741101e-01 -4.53945414e-01]]\n"
     ]
    }
   ],
   "source": [
    "nn.fit(X_train_scaled, y_train, epochs=100, verbose=True, batch_size=12)\n",
    "nn.show_weights()\n",
    "y_pred_back = nn.predict(X_test_scaled)"
   ]
  },
  {
   "cell_type": "markdown",
   "id": "833becb7",
   "metadata": {},
   "source": [
    "---"
   ]
  },
  {
   "cell_type": "markdown",
   "id": "74b6b295",
   "metadata": {},
   "source": [
    "### Confusion Matrix"
   ]
  },
  {
   "cell_type": "code",
   "execution_count": 9,
   "id": "64ac9392",
   "metadata": {},
   "outputs": [
    {
     "data": {
      "image/png": "[encoded data removed]",
      "text/plain": [
       "<Figure size 640x480 with 2 Axes>"
      ]
     },
     "metadata": {},
     "output_type": "display_data"
    }
   ],
   "source": [
    "ConfusionMatrixDisplay.from_predictions(y_test, y_pred_back)\n",
    "plt.title(\"Confusion Matrix\")\n",
    "plt.show()"
   ]
  },
  {
   "cell_type": "markdown",
   "id": "2b18bc7e",
   "metadata": {},
   "source": [
    "---"
   ]
  },
  {
   "cell_type": "markdown",
   "id": "1c76ffca",
   "metadata": {},
   "source": [
    "### Classification Report"
   ]
  },
  {
   "cell_type": "code",
   "execution_count": 10,
   "id": "f995d75a",
   "metadata": {},
   "outputs": [
    {
     "name": "stdout",
     "output_type": "stream",
     "text": [
      "              precision    recall  f1-score   support\n",
      "\n",
      "           0       1.00      0.93      0.96        42\n",
      "           1       0.96      1.00      0.98        71\n",
      "\n",
      "    accuracy                           0.97       113\n",
      "   macro avg       0.98      0.96      0.97       113\n",
      "weighted avg       0.97      0.97      0.97       113\n",
      "\n"
     ]
    }
   ],
   "source": [
    "print(classification_report(y_test, y_pred_back))"
   ]
  },
  {
   "cell_type": "markdown",
   "id": "53ac5479",
   "metadata": {},
   "source": [
    "---"
   ]
  },
  {
   "cell_type": "markdown",
   "id": "5dd49fee",
   "metadata": {},
   "source": [
    "# Conclusiones"
   ]
  },
  {
   "cell_type": "markdown",
   "id": "a0ccb136",
   "metadata": {},
   "source": [
    "En resumen, el trabajo realizado permitió consolidar aprendizajes clave, demostrar avances técnicos y prácticos, y fortalecer la capacidad de análisis y adaptación. \n",
    "\n",
    "Aunque se identificaron áreas de mejora que servirán de guía para el perfeccionamiento futuro, se cuenta ya con una base sólida que permitirá afrontar con mayor claridad y seguridad los retos de las siguientes etapas."
   ]
  },
  {
   "cell_type": "markdown",
   "id": "f2db1427",
   "metadata": {},
   "source": [
    "---"
   ]
  }
 ],
 "metadata": {
  "kernelspec": {
   "display_name": "Reto_housing",
   "language": "python",
   "name": "python3"
  },
  "language_info": {
   "codemirror_mode": {
    "name": "ipython",
    "version": 3
   },
   "file_extension": ".py",
   "mimetype": "text/x-python",
   "name": "python",
   "nbconvert_exporter": "python",
   "pygments_lexer": "ipython3",
   "version": "3.12.11"
  }
 },
 "nbformat": 4,
 "nbformat_minor": 5
}
